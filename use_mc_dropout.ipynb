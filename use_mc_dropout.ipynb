{
 "cells": [
  {
   "cell_type": "code",
   "execution_count": 2,
   "id": "9be4d966-9a02-432c-9bcf-a71103feac60",
   "metadata": {},
   "outputs": [],
   "source": [
    "import torch\n",
    "import torch.nn as nn\n",
    "import torch.optim as optim\n",
    "import torch.nn.functional as F\n",
    "from torch.utils.data import DataLoader\n",
    "\n",
    "\n",
    "# model used for MC-dropout\n",
    "class BinaryClassifier(nn.Module):\n",
    "    def __init__(self, input_size, hidden_size1, hidden_size2, hidden_size3, output_size):\n",
    "        super(BinaryClassifier, self).__init__()\n",
    "        self.fc1 = nn.Linear(input_size, hidden_size1)\n",
    "        self.dropout1 = nn.Dropout(0.1)\n",
    "        self.fc2 = nn.Linear(hidden_size1, hidden_size2)\n",
    "        self.dropout2 = nn.Dropout(0.1)\n",
    "        self.fc3 = nn.Linear(hidden_size2, hidden_size3)\n",
    "        self.dropout3 = nn.Dropout(0.1)\n",
    "        self.fc4 = nn.Linear(hidden_size3, output_size)\n",
    "    \n",
    "    def forward(self, x):\n",
    "        x = F.relu(self.fc1(x))\n",
    "        x = self.dropout1(x)\n",
    "        x = F.relu(self.fc2(x))\n",
    "        x = self.dropout2(x)\n",
    "        x = F.relu(self.fc3(x))\n",
    "        x = self.dropout3(x)\n",
    "        x = torch.sigmoid(self.fc4(x))  # Sigmoid activation for binary classification\n",
    "        return x"
   ]
  },
  {
   "cell_type": "code",
   "execution_count": 30,
   "id": "d9d9bd3a-c5ab-4ada-afd4-9c7dcdb7ff2d",
   "metadata": {},
   "outputs": [],
   "source": [
    "# function that calculates the standard deviation,\n",
    "def calculate_std(model, features):\n",
    "    num_samples = 100\n",
    "    mc_predictions = []\n",
    "    with torch.no_grad():\n",
    "        model.train()\n",
    "        mc_predictions_batch = torch.zeros(num_samples, features.shape[0], 12) # 12 AU classes\n",
    "        for i in range(num_samples):\n",
    "            y_pred = model(features)\n",
    "            # print(y_pred_val.shape)\n",
    "            mc_predictions_batch[i] = y_pred.squeeze()\n",
    "        mc_predictions.append(mc_predictions_batch)\n",
    "    mc_predictions = torch.concat(mc_predictions, dim=1)\n",
    "    \n",
    "    std_predictions = mc_predictions.std(dim=0)\n",
    "    std_predictions_mean = std_predictions.mean(dim=1)\n",
    "    std_predictions_mean = std_predictions_mean.squeeze()\n",
    "    std_predictions_mean = std_predictions_mean.view(1, -1, 1)\n",
    "    return std_predictions_mean"
   ]
  },
  {
   "cell_type": "code",
   "execution_count": 51,
   "id": "162b8c83-33fb-4156-a036-6a11bcc420da",
   "metadata": {},
   "outputs": [],
   "source": [
    "import cv2\n",
    "import numpy as np\n",
    "import os\n",
    "import torch\n",
    "import timm\n",
    "\n",
    "# fuction that takes in a video, and return its features\n",
    "def generate_features(video_path):\n",
    "    device = \"cuda\"\n",
    "    \n",
    "    model = timm.create_model('vit_base_patch16_224', pretrained=True)\n",
    "    model = model.to(device)\n",
    "    model.eval()\n",
    "    \n",
    "    def preprocess_frame(frame):\n",
    "        frame = cv2.resize(frame, (224, 224), interpolation=cv2.INTER_AREA)\n",
    "        frame = cv2.cvtColor(frame, cv2.COLOR_BGR2RGB)\n",
    "        frame = torch.tensor(frame / 255.0, dtype=torch.float32)\n",
    "        frame = (frame - torch.tensor([0.485, 0.456, 0.406])) / torch.tensor([0.229, 0.224, 0.225])\n",
    "        frame = frame.permute(2, 0, 1).unsqueeze(0)  # Reshape to [1, 3, 224, 224]\n",
    "        return frame\n",
    "    \n",
    "    cap = cv2.VideoCapture(video_path)\n",
    "    frame_index = 0\n",
    "    all_features=[]\n",
    "    while cap.isOpened():\n",
    "        ret, frame = cap.read()\n",
    "        if ret:\n",
    "            # Preprocess the frame\n",
    "            input_tensor = preprocess_frame(frame)\n",
    "    \n",
    "            input_tensor = input_tensor.to(device)\n",
    "    \n",
    "            # Extract features\n",
    "            with torch.no_grad():\n",
    "                features = model.forward_features(input_tensor)\n",
    "            \n",
    "            all_features.append(features.cpu().numpy())\n",
    "            # Save features to a file\n",
    "            frame_index += 1\n",
    "        else:\n",
    "            break\n",
    "    cap.release()\n",
    "    features = torch.tensor(np.array(all_features))\n",
    "    features = features.mean(axis=2, keepdims=False)\n",
    "    features = features.permute(1, 0, 2)\n",
    "    return features"
   ]
  },
  {
   "cell_type": "code",
   "execution_count": 52,
   "id": "14e37002-78c1-4b2a-af21-f8882f50ac4f",
   "metadata": {},
   "outputs": [],
   "source": [
    "video_path = \"./video_blurred/53-30-360x480.mp4\"\n",
    "original_video_path = \"./video_bipeng/53-30-360x480.mp4\"\n",
    "video_features = generate_features(video_path)\n",
    "original_video_features = generate_features(original_video_path)"
   ]
  },
  {
   "cell_type": "code",
   "execution_count": 53,
   "id": "f830cb8d-45dc-41a9-8c30-e2f05fc8cfea",
   "metadata": {},
   "outputs": [
    {
     "data": {
      "text/plain": [
       "torch.Size([1, 1053, 768])"
      ]
     },
     "execution_count": 53,
     "metadata": {},
     "output_type": "execute_result"
    }
   ],
   "source": [
    "video_features.shape"
   ]
  },
  {
   "cell_type": "code",
   "execution_count": 55,
   "id": "aa9fb61c-9160-41f8-87ef-3d762b8516eb",
   "metadata": {},
   "outputs": [
    {
     "data": {
      "text/plain": [
       "torch.Size([1, 1052, 768])"
      ]
     },
     "execution_count": 55,
     "metadata": {},
     "output_type": "execute_result"
    }
   ],
   "source": [
    "original_video_features.shape"
   ]
  },
  {
   "cell_type": "code",
   "execution_count": 56,
   "id": "80ae82f9-41bd-46b3-bd67-5b9808b7ca5a",
   "metadata": {},
   "outputs": [],
   "source": [
    "video_features = video_features.to(device)\n",
    "original_video_features = original_video_features.to(device)"
   ]
  },
  {
   "cell_type": "code",
   "execution_count": 57,
   "id": "70bd0c90-dd15-43f7-b4fb-fc521567f87a",
   "metadata": {},
   "outputs": [],
   "source": [
    "video_model = torch.load(\"./best_model_video.pt\") # pre-trained video model using the previously defined model\n",
    "video_features = video_features.squeeze()\n",
    "video_std = calculate_std(video_model, video_features)\n",
    "original_video_features = original_video_features.squeeze()\n",
    "original_video_std = calculate_std(video_model, original_video_features)"
   ]
  },
  {
   "cell_type": "code",
   "execution_count": 66,
   "id": "033b0912-7c86-4b21-9c5a-4bf3bf59b3d5",
   "metadata": {},
   "outputs": [
    {
     "data": {
      "text/plain": [
       "<matplotlib.legend.Legend at 0x7f74c2634730>"
      ]
     },
     "execution_count": 66,
     "metadata": {},
     "output_type": "execute_result"
    },
    {
     "data": {
      "image/png": "[encoded data removed]",
      "text/plain": [
       "<Figure size 640x480 with 1 Axes>"
      ]
     },
     "metadata": {},
     "output_type": "display_data"
    }
   ],
   "source": [
    "import matplotlib.pyplot as plt\n",
    "\n",
    "window_size = 15\n",
    "\n",
    "data = video_std.cpu().numpy()\n",
    "smoothed_data = np.convolve(data, np.ones(window_size)/window_size, mode='valid')\n",
    "plt.plot(smoothed_data, label=\"blurred\")\n",
    "\n",
    "original_data = original_video_std.cpu().numpy()\n",
    "smoothed_original_data = np.convolve(original_data, np.ones(window_size)/window_size, mode='valid')\n",
    "plt.plot(smoothed_original_data, label=\"original\")\n",
    "plt.legend()"
   ]
  },
  {
   "cell_type": "code",
   "execution_count": 70,
   "id": "95f0f11c-78fc-4223-a2e2-8a7922efba49",
   "metadata": {},
   "outputs": [
    {
     "data": {
      "text/plain": [
       "[<matplotlib.lines.Line2D at 0x7f74c22a65c0>]"
      ]
     },
     "execution_count": 70,
     "metadata": {},
     "output_type": "execute_result"
    },
    {
     "data": {
      "image/png": "[encoded data removed]",
      "text/plain": [
       "<Figure size 640x480 with 1 Axes>"
      ]
     },
     "metadata": {},
     "output_type": "display_data"
    }
   ],
   "source": [
    "min_len = min(len(smoothed_data), len(smoothed_original_data))\n",
    "plt.plot(smoothed_data[:min_len] - smoothed_original_data[:min_len])"
   ]
  },
  {
   "cell_type": "code",
   "execution_count": 2,
   "id": "05f0999f-fc6c-4568-97db-e54db2520b2d",
   "metadata": {},
   "outputs": [],
   "source": [
    "def apply_mc_dropout_weight(vfeature, afeature, labels):\n",
    "    vfeature, afeature = vfeature.to(device), afeature.to(device)\n",
    "    video_model = torch.load(\"./best_model_video.pt\")\n",
    "    audio_model = torch.load(\"./audio_best_model.pt\")\n",
    "    \n",
    "    vstd = calculate_std(video_model, vfeature, labels)\n",
    "    astd = calculate_std(audio_model, afeature, labels)\n",
    "    vstd, astd = vstd.to(device), astd.to(device)\n",
    "    wv = (2 / vstd) / ((1 / vstd) + (1 / astd))\n",
    "    wa = (2 / astd) / ((1 / vstd) + (1 / astd))\n",
    "    nan_check = torch.isnan(wv)\n",
    "    inf_check = torch.isinf(wv)\n",
    "    assert not nan_check.any()\n",
    "    assert not inf_check.any()\n",
    "    nan_check = torch.isnan(wa)\n",
    "    inf_check = torch.isinf(wa)\n",
    "    assert not nan_check.any()\n",
    "    assert not inf_check.any()\n",
    "    wv = wv.view(1, -1, 1)\n",
    "    wa = wa.view(1, -1, 1)\n",
    "    vfeature = vfeature * wv\n",
    "    afeature = afeature * wa\n",
    "    return vfeature, afeature"
   ]
  },
  {
   "cell_type": "code",
   "execution_count": 4,
   "id": "4cd7ebb0-49c3-4456-9771-dfd54b8ef970",
   "metadata": {},
   "outputs": [],
   "source": [
    "import os\n",
    "import torch\n",
    "from torch.utils.data import Dataset, DataLoader\n",
    "import numpy as np\n",
    "\n",
    "device = \"cuda\"\n",
    "def seq_feature_generation(video_feature, audio_feature, seq_len, pooling = \"mean\"):\n",
    "    #video_feature : [1, 773, 768]\n",
    "    #audio_feature : [1, 773, 1024]\n",
    "    video_feature = video_feature.to(device)\n",
    "    audio_feature = audio_feature.to(device)\n",
    "\n",
    "    combined_feature = torch.cat([video_feature, audio_feature], dim=-1)\n",
    "    max_seq = combined_feature.shape[1]\n",
    "    #[1, max_seq, 1024 + 768]\n",
    "    \n",
    "    if max_seq < seq_len:\n",
    "        # Pad both features to seq_len along the sequence dimension\n",
    "        combined_sequences = F.pad(combined_feature, (0, 0, 0, seq_len - max_seq))\n",
    "    else:\n",
    "        num_complete_seqs = max_seq // seq_len\n",
    "        combined_sequences = combined_feature[:,:num_complete_seqs*seq_len, :].view(-1, seq_len, combined_feature.shape[-1])\n",
    "    #[-1, seq_len, combined_feature_size]\n",
    "    return combined_sequences\n",
    "\n",
    "class CustomDataset(Dataset):\n",
    "    def __init__(self, video_features_dir, audio_features_dir, labels_dir):\n",
    "        # audio (1, length, 1024)\n",
    "        # video (length, 1, 768)\n",
    "\n",
    "        self.samples = []\n",
    "\n",
    "        # Get the list of filenames (without suffix) for features and labels\n",
    "        video_features_files = {os.path.splitext(f)[0]: f for f in os.listdir(video_features_dir) if f.endswith('.pt')}\n",
    "        audio_features_files = {os.path.splitext(f)[0]: f for f in os.listdir(audio_features_dir) if f.endswith('.pt')}\n",
    "        labels_files = {os.path.splitext(f)[0]: f for f in os.listdir(labels_dir) if f.endswith('.txt')}\n",
    "\n",
    "        # Find the intersection of filenames\n",
    "        common_filenames = video_features_files.keys() & audio_features_files.keys() & labels_files.keys()\n",
    "\n",
    "        # Load the data for the common filenames\n",
    "        # cnt = 0\n",
    "        for filename in common_filenames:\n",
    "            # cnt += 1\n",
    "            # if cnt == 10:\n",
    "            #     break\n",
    "            video_features_path = os.path.join(video_features_dir, video_features_files[filename])\n",
    "            audio_features_path = os.path.join(audio_features_dir, audio_features_files[filename])\n",
    "            labels_path = os.path.join(labels_dir, labels_files[filename])\n",
    "\n",
    "            video_features = torch.load(video_features_path)\n",
    "            video_features = video_features.permute(1, 0, 2) # (1, length, 768)\n",
    "            audio_features = torch.load(audio_features_path)\n",
    "            labels = np.loadtxt(labels_path, skiprows=1, delimiter=',')\n",
    "            \n",
    "            min_len = min(video_features.shape[1], audio_features.shape[1], len(labels))\n",
    "            video_features = video_features[:, :min_len, :]\n",
    "            audio_features = audio_features[:, :min_len, :]\n",
    "            labels = torch.tensor(labels[:min_len])\n",
    "\n",
    "            valid_indices = [i for i, label in enumerate(labels) if -1 not in label]\n",
    "            video_features = video_features[:, valid_indices, :]\n",
    "            audio_features = audio_features[:, valid_indices, :]\n",
    "            labels = labels[valid_indices]\n",
    "\n",
    "            video_features, audio_features = apply_mc_dropout_weight(video_features, audio_features, labels)\n",
    "            \n",
    "            seq_len = 10\n",
    "            combined_sequences = seq_feature_generation(video_features, audio_features, seq_len)\n",
    "            label_sequences = labels[:combined_sequences.shape[0] * seq_len].reshape(-1, seq_len, 12)\n",
    "\n",
    "            self.trunk_size = 128  # Adjust this value as needed\n",
    "            num_trunks = combined_sequences.shape[0] // self.trunk_size + 1\n",
    "\n",
    "            # Split features and labels into trunks\n",
    "            for i in range(0, num_trunks):\n",
    "                start_idx = i * self.trunk_size\n",
    "                end_idx = min(start_idx + self.trunk_size, combined_sequences.shape[0])\n",
    "                if start_idx == end_idx:\n",
    "                    break\n",
    "                features_trunk = combined_sequences[start_idx:end_idx]\n",
    "                labels_trunk = label_sequences[start_idx:end_idx]\n",
    "                # print(features_trunk.shape)\n",
    "                # print(labels_trunk.shape)\n",
    "                self.samples.append((features_trunk, labels_trunk))\n",
    "            \n",
    "    \n",
    "    def __len__(self):\n",
    "        return len(self.samples)\n",
    "\n",
    "    def __getitem__(self, idx):\n",
    "        return self.samples[idx]\n",
    "\n",
    "# Instantiate the dataset\n",
    "VIDEO_FEATURES_FOLDER = \"./video_feature_pooled\"\n",
    "AUDIO_FEATURES_FOLDER = \"./features4\"\n",
    "LABELS_FOLDER = \"./labels/AU_Detection_Challenge/Train_Set\"\n",
    "dataset = CustomDataset(VIDEO_FEATURES_FOLDER, AUDIO_FEATURES_FOLDER, LABELS_FOLDER)\n",
    "\n",
    "# Create a DataLoader\n",
    "dataloader = DataLoader(dataset, batch_size=1, shuffle=False)"
   ]
  },
  {
   "cell_type": "code",
   "execution_count": 5,
   "id": "8104f95d-ecae-4d1c-a376-35d7d799a3e9",
   "metadata": {},
   "outputs": [],
   "source": [
    "VAL_LABELS_FOLDER = \"./labels/AU_Detection_Challenge/Validation_Set\"\n",
    "val_dataset = CustomDataset(VIDEO_FEATURES_FOLDER, AUDIO_FEATURES_FOLDER, VAL_LABELS_FOLDER)\n",
    "\n",
    "# Create a DataLoader\n",
    "val_dataloader = DataLoader(val_dataset, batch_size=1, shuffle=False)"
   ]
  },
  {
   "cell_type": "code",
   "execution_count": 6,
   "id": "51330a4d-ebb7-42ca-9e88-a9e072698d72",
   "metadata": {},
   "outputs": [
    {
     "name": "stdout",
     "output_type": "stream",
     "text": [
      "0 torch.Size([1, 128, 10, 1792]) torch.Size([1, 128, 10, 12])\n"
     ]
    }
   ],
   "source": [
    "for batch_idx, (X, y) in enumerate(dataloader):\n",
    "    # Train your model with the features (X) and labels (y)\n",
    "    print(batch_idx, X.shape, y.shape)\n",
    "    break"
   ]
  },
  {
   "cell_type": "code",
   "execution_count": 13,
   "id": "ec0c872c-d05a-4d24-9b25-0c3a468b0161",
   "metadata": {},
   "outputs": [],
   "source": [
    "import timm\n",
    "from transformers import Wav2Vec2Processor, HubertModel\n",
    "\n",
    "class ViTHuBERTTransformer_prepossed(nn.Module):\n",
    "    def __init__(self, vit_base_model,\n",
    "                 hubert_base_model,\n",
    "                 num_classes,\n",
    "                 nhead,\n",
    "                 num_layers,\n",
    "                small_dataset = True):\n",
    "        super().__init__()\n",
    "\n",
    "        self.vit = timm.create_model(vit_base_model, pretrained=True)\n",
    "\n",
    "        #self.processor = Wav2Vec2Processor.from_pretrained(hubert_base_model)\n",
    "        self.hubert = HubertModel.from_pretrained(hubert_base_model)\n",
    "\n",
    "        if small_dataset:\n",
    "            for param in self.vit.parameters():\n",
    "                param.requires_grad = False\n",
    "       \n",
    "            for param in self.hubert.parameters():\n",
    "                param.requires_grad = False\n",
    "           \n",
    "        print(self.vit.num_features + self.hubert.config.hidden_size)\n",
    "        encoder_layer = nn.TransformerEncoderLayer(d_model = self.vit.num_features + self.hubert.config.hidden_size,\n",
    "                                                  nhead = nhead,\n",
    "                                                  dim_feedforward = (self.vit.num_features + self.hubert.config.hidden_size)//2,\n",
    "                                                  batch_first = True)\n",
    "        # print(encoder_layer.head_dim)\n",
    "        self.transformer_encoder = nn.TransformerEncoder(encoder_layer, num_layers = num_layers)\n",
    "\n",
    "        # Classifier\n",
    "        self.classifier = nn.Linear(self.vit.num_features + self.hubert.config.hidden_size, num_classes)\n",
    "        self._init_transformer_weights()\n",
    "\n",
    "    def _init_transformer_weights(self):\n",
    "        # Initialize only the transformer encoder layers\n",
    "        for layer in self.transformer_encoder.layers:\n",
    "            for module in layer.modules():\n",
    "                if isinstance(module, nn.Linear):\n",
    "                    nn.init.xavier_uniform_(module.weight)\n",
    "                    if module.bias is not None:\n",
    "                        nn.init.constant_(module.bias, 0)\n",
    "                # Optionally initialize other components like multi-head attention within the transformer layer\n",
    "                # Depending on the PyTorch implementation, you may need to access sub-components directly\n",
    "\n",
    "    def forward(self, combined_feature):\n",
    "\n",
    "        transformer_output = self.transformer_encoder(combined_feature)\n",
    "\n",
    "        logits = self.classifier(transformer_output.squeeze(1))\n",
    "        return logits"
   ]
  },
  {
   "cell_type": "code",
   "execution_count": 14,
   "id": "0ab51911-9d3e-40da-b4eb-8da20ed05a08",
   "metadata": {},
   "outputs": [
    {
     "name": "stderr",
     "output_type": "stream",
     "text": [
      "Some weights of HubertModel were not initialized from the model checkpoint at facebook/hubert-large-ls960-ft and are newly initialized: ['hubert.encoder.pos_conv_embed.conv.parametrizations.weight.original0', 'hubert.encoder.pos_conv_embed.conv.parametrizations.weight.original1']\n",
      "You should probably TRAIN this model on a down-stream task to be able to use it for predictions and inference.\n"
     ]
    },
    {
     "name": "stdout",
     "output_type": "stream",
     "text": [
      "1792\n"
     ]
    }
   ],
   "source": [
    "model = ViTHuBERTTransformer_prepossed(\n",
    "    vit_base_model = 'vit_base_patch16_224',\n",
    "    hubert_base_model = \"facebook/hubert-large-ls960-ft\",\n",
    "    num_classes = 12,\n",
    "    nhead = 16,\n",
    "    num_layers = 18,\n",
    "    small_dataset = True\n",
    ")\n",
    "\n",
    "model = model.to(device)"
   ]
  },
  {
   "cell_type": "code",
   "execution_count": 15,
   "id": "5986034f-aff4-416a-afbe-0186552b7ae9",
   "metadata": {},
   "outputs": [],
   "source": [
    "def evaluate(model, dataloader, loss_fn, device):\n",
    "    model.eval()\n",
    "    loss_cumulative = 0.\n",
    "    eval_labels = []\n",
    "    eval_preds = []\n",
    "    with torch.no_grad():\n",
    "        for inputs, labels in tqdm(dataloader, desc=\"Evaluate\"):\n",
    "            inputs, labels = inputs.squeeze().to(device), labels.squeeze().to(device)\n",
    "            outputs = model(inputs)\n",
    "            # print(outputs)\n",
    "            # assert False\n",
    "            loss = loss_fn(outputs, labels)\n",
    "            loss_cumulative += loss.item()\n",
    "            # print(loss_cumulative)\n",
    "            preds = torch.sigmoid(outputs) if not hasattr(loss_fn, 'activation') else outputs\n",
    "            preds = (preds > 0.5).int()\n",
    "            eval_labels.append(labels.cpu().numpy().reshape(-1,12))\n",
    "            eval_preds.append(preds.cpu().numpy().reshape(-1,12))\n",
    "    eval_labels = np.concatenate(eval_labels, axis=0)\n",
    "    eval_preds = np.concatenate(eval_preds, axis=0)\n",
    "    print(eval_labels.shape, eval_preds.shape)\n",
    "    eval_f1_score = f1_score(eval_labels, eval_preds, average='macro')\n",
    "    return loss_cumulative / len(dataloader), eval_f1_score"
   ]
  },
  {
   "cell_type": "code",
   "execution_count": 16,
   "id": "cc19b496-0017-42ae-bddd-67e6f1d60ac6",
   "metadata": {},
   "outputs": [],
   "source": [
    "def loglinspace(rate, step, end=None):\n",
    "    t = 0\n",
    "    while end is None or t <= end:\n",
    "        yield t\n",
    "        t = int(t + 1 + step * (1 - math.exp(-t * rate / step)))"
   ]
  },
  {
   "cell_type": "code",
   "execution_count": 17,
   "id": "91cdaa80-eac9-44ff-95f9-99cabe2b65db",
   "metadata": {},
   "outputs": [],
   "source": [
    "! rm ./vithubertformer.torch"
   ]
  },
  {
   "cell_type": "code",
   "execution_count": 18,
   "id": "d41a56dd-2a18-4cd1-a1ee-a21304a37ab3",
   "metadata": {},
   "outputs": [
    {
     "name": "stdout",
     "output_type": "stream",
     "text": [
      "cuda\n"
     ]
    },
    {
     "name": "stderr",
     "output_type": "stream",
     "text": [
      "Evaluate: 100%|██████████| 404/404 [00:18<00:00, 22.36it/s]\n"
     ]
    },
    {
     "name": "stdout",
     "output_type": "stream",
     "text": [
      "(445350, 12) (445350, 12)\n",
      "0 valid_avg_loss before training:   4.8725 val_f1_score before training: ,   0.1130\n"
     ]
    },
    {
     "name": "stderr",
     "output_type": "stream",
     "text": [
      "Training: 100%|██████████| 1189/1189 [03:51<00:00,  5.14it/s]\n"
     ]
    },
    {
     "name": "stdout",
     "output_type": "stream",
     "text": [
      "Training loss:  7222.1831084509195\n"
     ]
    },
    {
     "name": "stderr",
     "output_type": "stream",
     "text": [
      "Evaluate: 100%|██████████| 404/404 [00:17<00:00, 22.57it/s]\n"
     ]
    },
    {
     "name": "stdout",
     "output_type": "stream",
     "text": [
      "(445350, 12) (445350, 12)\n",
      "epoch    1   valid loss mse=   6.1450   wall = 00:04:09  val_f1_score =   0.1987  \n",
      "Last learning rate: [0.01]\n"
     ]
    },
    {
     "name": "stderr",
     "output_type": "stream",
     "text": [
      "Training: 100%|██████████| 1189/1189 [03:50<00:00,  5.15it/s]\n"
     ]
    },
    {
     "name": "stdout",
     "output_type": "stream",
     "text": [
      "Training loss:  5853.268898249763\n"
     ]
    },
    {
     "name": "stderr",
     "output_type": "stream",
     "text": [
      "Evaluate: 100%|██████████| 404/404 [00:17<00:00, 22.62it/s]\n"
     ]
    },
    {
     "name": "stdout",
     "output_type": "stream",
     "text": [
      "(445350, 12) (445350, 12)\n",
      "epoch    2   valid loss mse=   5.5262   wall = 00:08:29  val_f1_score =   0.2575  \n",
      "Last learning rate: [0.01]\n"
     ]
    },
    {
     "name": "stderr",
     "output_type": "stream",
     "text": [
      "Training: 100%|██████████| 1189/1189 [03:50<00:00,  5.16it/s]\n"
     ]
    },
    {
     "name": "stdout",
     "output_type": "stream",
     "text": [
      "Training loss:  6068.068687400275\n"
     ]
    },
    {
     "name": "stderr",
     "output_type": "stream",
     "text": [
      "Evaluate: 100%|██████████| 404/404 [00:17<00:00, 22.66it/s]\n"
     ]
    },
    {
     "name": "stdout",
     "output_type": "stream",
     "text": [
      "(445350, 12) (445350, 12)\n",
      "epoch    3   valid loss mse=   6.0667   wall = 00:12:40  val_f1_score =   0.1696  \n",
      "Last learning rate: [0.01]\n"
     ]
    },
    {
     "name": "stderr",
     "output_type": "stream",
     "text": [
      "Training: 100%|██████████| 1189/1189 [03:50<00:00,  5.15it/s]\n"
     ]
    },
    {
     "name": "stdout",
     "output_type": "stream",
     "text": [
      "Training loss:  5873.9597535712965\n"
     ]
    },
    {
     "name": "stderr",
     "output_type": "stream",
     "text": [
      "Evaluate: 100%|██████████| 404/404 [00:17<00:00, 22.67it/s]\n"
     ]
    },
    {
     "name": "stdout",
     "output_type": "stream",
     "text": [
      "(445350, 12) (445350, 12)\n",
      "epoch    4   valid loss mse=   5.0750   wall = 00:16:53  val_f1_score =   0.2393  \n",
      "Last learning rate: [0.01]\n"
     ]
    },
    {
     "name": "stderr",
     "output_type": "stream",
     "text": [
      "Training: 100%|██████████| 1189/1189 [03:50<00:00,  5.16it/s]\n"
     ]
    },
    {
     "name": "stdout",
     "output_type": "stream",
     "text": [
      "Training loss:  5909.806614062387\n"
     ]
    },
    {
     "name": "stderr",
     "output_type": "stream",
     "text": [
      "Evaluate: 100%|██████████| 404/404 [00:17<00:00, 22.64it/s]\n"
     ]
    },
    {
     "name": "stdout",
     "output_type": "stream",
     "text": [
      "(445350, 12) (445350, 12)\n",
      "epoch    5   valid loss mse=   5.1507   wall = 00:21:16  val_f1_score =   0.2200  \n",
      "Last learning rate: [0.01]\n"
     ]
    },
    {
     "name": "stderr",
     "output_type": "stream",
     "text": [
      "Training: 100%|██████████| 1189/1189 [03:51<00:00,  5.15it/s]\n"
     ]
    },
    {
     "name": "stdout",
     "output_type": "stream",
     "text": [
      "Training loss:  5653.502777526783\n",
      "Last learning rate: [0.01]\n"
     ]
    },
    {
     "name": "stderr",
     "output_type": "stream",
     "text": [
      "Training: 100%|██████████| 1189/1189 [03:50<00:00,  5.15it/s]\n"
     ]
    },
    {
     "name": "stdout",
     "output_type": "stream",
     "text": [
      "Training loss:  5672.889307306647\n"
     ]
    },
    {
     "name": "stderr",
     "output_type": "stream",
     "text": [
      "Evaluate: 100%|██████████| 404/404 [00:17<00:00, 22.66it/s]\n"
     ]
    },
    {
     "name": "stdout",
     "output_type": "stream",
     "text": [
      "(445350, 12) (445350, 12)\n",
      "epoch    7   valid loss mse=   5.3867   wall = 00:29:20  val_f1_score =   0.2393  \n",
      "Last learning rate: [0.005]\n"
     ]
    },
    {
     "name": "stderr",
     "output_type": "stream",
     "text": [
      "Training: 100%|██████████| 1189/1189 [03:51<00:00,  5.15it/s]\n"
     ]
    },
    {
     "name": "stdout",
     "output_type": "stream",
     "text": [
      "Training loss:  5862.551954268698\n",
      "Last learning rate: [0.005]\n"
     ]
    },
    {
     "name": "stderr",
     "output_type": "stream",
     "text": [
      "Training: 100%|██████████| 1189/1189 [03:50<00:00,  5.15it/s]\n"
     ]
    },
    {
     "name": "stdout",
     "output_type": "stream",
     "text": [
      "Training loss:  5604.234427226776\n"
     ]
    },
    {
     "name": "stderr",
     "output_type": "stream",
     "text": [
      "Evaluate: 100%|██████████| 404/404 [00:17<00:00, 22.67it/s]\n"
     ]
    },
    {
     "name": "stdout",
     "output_type": "stream",
     "text": [
      "(445350, 12) (445350, 12)\n",
      "epoch    9   valid loss mse=   5.0344   wall = 00:37:23  val_f1_score =   0.1966  \n",
      "Last learning rate: [0.005]\n"
     ]
    },
    {
     "name": "stderr",
     "output_type": "stream",
     "text": [
      "Training: 100%|██████████| 1189/1189 [03:50<00:00,  5.15it/s]"
     ]
    },
    {
     "name": "stdout",
     "output_type": "stream",
     "text": [
      "Training loss:  5572.10030650949\n",
      "Last learning rate: [0.005]\n"
     ]
    },
    {
     "name": "stderr",
     "output_type": "stream",
     "text": [
      "\n"
     ]
    }
   ],
   "source": [
    "import time\n",
    "from tqdm import tqdm\n",
    "from sklearn.metrics import f1_score\n",
    "import math\n",
    "\n",
    "\n",
    "def train(model, optimizer, dataloader_train, dataloader_valid, loss_fn,\n",
    "             max_iter=101, scheduler=None, device=\"cpu\"):\n",
    "    model.to(device = device, dtype=torch.float32)\n",
    "    print(device)\n",
    "    checkpoint_generator = loglinspace(0.3, 5)\n",
    "    checkpoint = next(checkpoint_generator)\n",
    "    start_time = time.time()\n",
    "    run_name = \"vithubertformer\"\n",
    "    try:\n",
    "        model.load_state_dict(torch.load(run_name + '.torch')['state'])\n",
    "    except:\n",
    "        results = {}\n",
    "        history = []\n",
    "        s0 = 0\n",
    "    else:\n",
    "        print('read torch history')\n",
    "        results = torch.load(run_name + '.torch')\n",
    "        history = results['history']\n",
    "        s0 = history[-1]['step'] + 1\n",
    "       \n",
    "   \n",
    "    for step in range(max_iter):\n",
    "        if step == 0:\n",
    "            for i in range(1):\n",
    "                valid_avg_loss, val_f1_score = evaluate(model, dataloader_valid, loss_fn, device)\n",
    "                print(f'{i}',f'valid_avg_loss before training: {valid_avg_loss:8.4f}', f'val_f1_score before training: , {val_f1_score:8.4f}')\n",
    "\n",
    "       \n",
    "        model.train()\n",
    "        loss_cumulative = 0.\n",
    "\n",
    "        for inputs, labels in tqdm(dataloader_train, desc=\"Training\"):\n",
    "            inputs, labels = inputs.squeeze().to(device), labels.squeeze().to(device)\n",
    "            optimizer.zero_grad()\n",
    "            outputs = model(inputs)\n",
    "            loss = loss_fn(outputs, labels)\n",
    "            loss.backward()\n",
    "            optimizer.step()\n",
    "            loss_cumulative += loss.item()\n",
    "        print('Training loss: ',loss_cumulative)\n",
    "\n",
    "        wall = time.time() - start_time\n",
    "        if step == checkpoint:\n",
    "            checkpoint = next(checkpoint_generator)\n",
    "            assert checkpoint > step\n",
    "\n",
    "            valid_avg_loss, val_f1_score = evaluate(model, dataloader_valid, loss_fn, device)\n",
    "\n",
    "            history.append({\n",
    "                'step': s0 + step,\n",
    "                'wall': wall,\n",
    "                'batch': {\n",
    "                    'loss': loss.item(),\n",
    "                },\n",
    "                'valid': {\n",
    "                    'loss': valid_avg_loss,\n",
    "                },\n",
    "            })\n",
    "\n",
    "            results = {\n",
    "                'history': history,\n",
    "                'state': model.state_dict()\n",
    "            }\n",
    "\n",
    "            print(f\"epoch {step + 1:4d}   \" +\n",
    "                  f\"valid loss mse= {valid_avg_loss:8.4f}   \" +\n",
    "                  f\"wall = {time.strftime('%H:%M:%S', time.gmtime(wall))}  \" +\n",
    "                  f\"val_f1_score = {val_f1_score:8.4f}  \" #+\n",
    "                  # f\"train_f1_score = {train_f1_score:8.4f}  \"\n",
    "                 )\n",
    "\n",
    "            with open(run_name + '.torch', 'wb') as f:\n",
    "                torch.save(results, f)\n",
    "\n",
    "        if scheduler is not None:\n",
    "            scheduler.step(valid_avg_loss)\n",
    "            last_lr = scheduler.get_last_lr()\n",
    "            print(\"Last learning rate:\", last_lr)\n",
    "\n",
    "loss_function = torch.nn.CrossEntropyLoss()\n",
    "opt = torch.optim.AdamW(model.parameters(), lr=0.01)\n",
    "scheduler = torch.optim.lr_scheduler.ReduceLROnPlateau(opt, 'min', factor=0.5, patience=2)\n",
    "train(model, opt, dataloader, val_dataloader, loss_function,\n",
    "             max_iter=10, scheduler=scheduler, device=device)"
   ]
  },
  {
   "cell_type": "code",
   "execution_count": null,
   "id": "a9dda9f2-3b20-4ce1-9c0d-f34cbebf36d3",
   "metadata": {},
   "outputs": [],
   "source": []
  }
 ],
 "metadata": {
  "kernelspec": {
   "display_name": "MC Dropout",
   "language": "python",
   "name": "ua"
  },
  "language_info": {
   "codemirror_mode": {
    "name": "ipython",
    "version": 3
   },
   "file_extension": ".py",
   "mimetype": "text/x-python",
   "name": "python",
   "nbconvert_exporter": "python",
   "pygments_lexer": "ipython3",
   "version": "3.10.13"
  }
 },
 "nbformat": 4,
 "nbformat_minor": 5
}
